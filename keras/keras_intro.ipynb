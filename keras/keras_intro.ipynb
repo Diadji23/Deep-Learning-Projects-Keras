{
 "cells": [
  {
   "cell_type": "markdown",
   "id": "c4401098",
   "metadata": {},
   "source": [
    "# Introduction to keras : trying to build a neural network \n",
    "## MNIST DIGIT CLASSIFICATION\n",
    "### -> Une image est de dimension 28*28 > on pourra applatir l image en un vecteur de taille 784 qu on utilisear comme entrée de notre réseau \n",
    "### -> la sortie du reseau sera une des 10 classes possibles \n",
    "\n"
   ]
  },
  {
   "cell_type": "code",
   "execution_count": 8,
   "id": "947638e4",
   "metadata": {},
   "outputs": [
    {
     "name": "stdout",
     "output_type": "stream",
     "text": [
      "train_images shape: (60000, 28, 28)\n",
      "train_labels shape: (60000,)\n"
     ]
    }
   ],
   "source": [
    "import numpy as np\n",
    "import matplotlib.pyplot as plt\n",
    "from tensorflow.keras.datasets import mnist\n",
    "\n",
    "# Chargement des données\n",
    "(train_images, train_labels), (test_images, test_labels) = mnist.load_data()\n",
    "\n",
    "print(\"train_images shape:\", train_images.shape)\n",
    "print(\"train_labels shape:\", train_labels.shape)\n"
   ]
  },
  {
   "cell_type": "markdown",
   "id": "9e9887b2",
   "metadata": {},
   "source": [
    "### Data preparation \n",
    "\n",
    "#### un pixel est a valuers  dans [ 0 , 255] , nous allons normaliser ce's vakleurs \n"
   ]
  },
  {
   "cell_type": "code",
   "execution_count": 9,
   "id": "a9c95c8d",
   "metadata": {},
   "outputs": [
    {
     "name": "stdout",
     "output_type": "stream",
     "text": [
      "train_images shape: (60000, 784)\n",
      "test_images shape: (10000, 784)\n"
     ]
    }
   ],
   "source": [
    "train_images= (train_images/ 255.0 ) - 0.5\n",
    "test_images = (test_images / 255.0) - 0.5 \n",
    "\n",
    "\n",
    "\n",
    "#on applatit les images\n",
    "train_images = train_images.reshape((-1 , 784))\n",
    "test_images = test_images.reshape((-1 , 784))\n",
    "\n",
    "print(\"train_images shape:\", train_images.shape)\n",
    "print(\"test_images shape:\", test_images.shape)  \n"
   ]
  },
  {
   "cell_type": "markdown",
   "id": "1df42ddb",
   "metadata": {},
   "source": [
    "### the sequentail class \n",
    "\n",
    "#### -> keras.Sequential( layers = None , trainable = True , name= None)\n",
    "#### -> Sequential.add(layer , rebuild = True)  , this adds a layer instance on top of the layer stack \n",
    "\n",
    "#### -> Sequential.pop(rebuild = True) , removes the last layer in the model\n",
    "\n"
   ]
  },
  {
   "cell_type": "code",
   "execution_count": 10,
   "id": "ef3e5933",
   "metadata": {},
   "outputs": [
    {
     "name": "stderr",
     "output_type": "stream",
     "text": [
      "/home/papadiadji/.local/lib/python3.12/site-packages/keras/src/layers/core/dense.py:87: UserWarning: Do not pass an `input_shape`/`input_dim` argument to a layer. When using Sequential models, prefer using an `Input(shape)` object as the first layer in the model instead.\n",
      "  super().__init__(activity_regularizer=activity_regularizer, **kwargs)\n"
     ]
    }
   ],
   "source": [
    "from tensorflow.keras.models import Sequential \n",
    "from tensorflow.keras.layers import Dense \n",
    "from tensorflow.keras.utils import to_categorical\n",
    "\n",
    "#reLU(x)=max(0,x)\n",
    "\n",
    "model = Sequential([Dense(64, activation='relu', input_shape=(784,)),  # le premier layer est la couche d'entrée avec 784 neurones (28*28 pixels)\n",
    "                      Dense(64, activation='relu'), \n",
    "                      Dense(10, activation='softmax')])  # le dernier layer est la couche de sortie avec 10 neurones (une pour chaque chiffre)"
   ]
  },
  {
   "cell_type": "markdown",
   "id": "cb2125d3",
   "metadata": {},
   "source": [
    "### Compliling the model \n",
    "\n",
    "#### l' optimizer : on a Adam gradient-based optimizer , y en a beaucoup d autres d optimizer \n",
    "\n",
    "#### la fonction Loss . Cross-Entropy loss -> a voir aprés \n",
    "\n",
    "### metrics pour l'évaluation "
   ]
  },
  {
   "cell_type": "code",
   "execution_count": 11,
   "id": "37c11a4c",
   "metadata": {},
   "outputs": [],
   "source": [
    "model.compile(\n",
    "    optimizer = 'adam', \n",
    "    loss =('categorical_crossentropy'),\n",
    "    metrics = ['accuracy'])"
   ]
  },
  {
   "cell_type": "markdown",
   "id": "d16beb98",
   "metadata": {},
   "source": [
    "### Training : avec keras on  appelle la fonction fit() and donner certains parametres : \n",
    "####      training data : features and labels \n",
    "####       number of epochs : iterations sur l ensemble du dataset\n",
    "####      batch size : ? "
   ]
  },
  {
   "cell_type": "code",
   "execution_count": 12,
   "id": "149d3fb2",
   "metadata": {},
   "outputs": [
    {
     "name": "stdout",
     "output_type": "stream",
     "text": [
      "Epoch 1/5\n",
      "\u001b[1m1875/1875\u001b[0m \u001b[32m━━━━━━━━━━━━━━━━━━━━\u001b[0m\u001b[37m\u001b[0m \u001b[1m11s\u001b[0m 4ms/step - accuracy: 0.8054 - loss: 0.6414\n",
      "Epoch 2/5\n",
      "\u001b[1m1875/1875\u001b[0m \u001b[32m━━━━━━━━━━━━━━━━━━━━\u001b[0m\u001b[37m\u001b[0m \u001b[1m48s\u001b[0m 17ms/step - accuracy: 0.9345 - loss: 0.2227\n",
      "Epoch 3/5\n",
      "\u001b[1m1875/1875\u001b[0m \u001b[32m━━━━━━━━━━━━━━━━━━━━\u001b[0m\u001b[37m\u001b[0m \u001b[1m-13s\u001b[0m -7072us/step - accuracy: 0.9507 - loss: 0.1616\n",
      "Epoch 4/5\n",
      "\u001b[1m1875/1875\u001b[0m \u001b[32m━━━━━━━━━━━━━━━━━━━━\u001b[0m\u001b[37m\u001b[0m \u001b[1m8s\u001b[0m 4ms/step - accuracy: 0.9582 - loss: 0.1362 \n",
      "Epoch 5/5\n",
      "\u001b[1m1875/1875\u001b[0m \u001b[32m━━━━━━━━━━━━━━━━━━━━\u001b[0m\u001b[37m\u001b[0m \u001b[1m9s\u001b[0m 5ms/step - accuracy: 0.9633 - loss: 0.1180  \n"
     ]
    },
    {
     "data": {
      "text/plain": [
       "<keras.src.callbacks.history.History at 0x7fb7ff9ca030>"
      ]
     },
     "execution_count": 12,
     "metadata": {},
     "output_type": "execute_result"
    }
   ],
   "source": [
    "model.fit(train_images , \n",
    "         to_categorical(train_labels) # Convertir les labels en one-hot encoding\n",
    "          , epochs=5, batch_size=32)  "
   ]
  },
  {
   "cell_type": "markdown",
   "id": "e70bf7b4",
   "metadata": {},
   "source": [
    "##### -> un accuracy élevé n 'est pas forcément fiable car il y a possibilité d overfitting . Faut donc regarder la performance sur les données test"
   ]
  },
  {
   "cell_type": "code",
   "execution_count": null,
   "id": "642fa513",
   "metadata": {},
   "outputs": [
    {
     "name": "stdout",
     "output_type": "stream",
     "text": [
      "\u001b[1m313/313\u001b[0m \u001b[32m━━━━━━━━━━━━━━━━━━━━\u001b[0m\u001b[37m\u001b[0m \u001b[1m2s\u001b[0m 5ms/step - accuracy: 0.9475 - loss: 0.1577\n"
     ]
    },
    {
     "data": {
      "text/plain": [
       "[0.1389555186033249, 0.9549999833106995]"
      ]
     },
     "execution_count": 13,
     "metadata": {},
     "output_type": "execute_result"
    }
   ],
   "source": [
    "model.evaluate(test_images, to_categorical(test_labels))\n",
    "\n",
    "#le resultat est un tableau de 2 valeurs: la perte et l accuracy\n",
    "# on a donc ici 95% de précision sur les données de test"
   ]
  },
  {
   "cell_type": "code",
   "execution_count": 14,
   "id": "48a60676",
   "metadata": {},
   "outputs": [
    {
     "name": "stderr",
     "output_type": "stream",
     "text": [
      "WARNING:absl:You are saving your model as an HDF5 file via `model.save()` or `keras.saving.save_model(model)`. This file format is considered legacy. We recommend using instead the native Keras format, e.g. `model.save('my_model.keras')` or `keras.saving.save_model(model, 'my_model.keras')`. \n"
     ]
    }
   ],
   "source": [
    "model.save('mnist_model.h5')  # Enregistrer le modèle"
   ]
  },
  {
   "cell_type": "code",
   "execution_count": 18,
   "id": "4bd27963",
   "metadata": {},
   "outputs": [
    {
     "name": "stdout",
     "output_type": "stream",
     "text": [
      "\u001b[1m1/1\u001b[0m \u001b[32m━━━━━━━━━━━━━━━━━━━━\u001b[0m\u001b[37m\u001b[0m \u001b[1m0s\u001b[0m 143ms/step\n",
      "[7 2 1 0 4]\n",
      "[7 2 1 0 4]\n"
     ]
    }
   ],
   "source": [
    "predictions = model.predict(test_images[:5])  # Prédire les classes des images de test\n",
    "\n",
    "print(np.argmax(predictions, axis=1))  # Afficher les classes prédites\n",
    "\n",
    "\n",
    "# Afficher les images et leurs classes prédites\n",
    "print(test_labels[:5])"
   ]
  },
  {
   "cell_type": "markdown",
   "id": "6a4246e4",
   "metadata": {},
   "source": [
    "### Tuning des hyperparametres \n"
   ]
  },
  {
   "cell_type": "code",
   "execution_count": 22,
   "id": "2a7b717f",
   "metadata": {},
   "outputs": [
    {
     "name": "stdout",
     "output_type": "stream",
     "text": [
      "Epoch 1/10\n",
      "\u001b[1m938/938\u001b[0m \u001b[32m━━━━━━━━━━━━━━━━━━━━\u001b[0m\u001b[37m\u001b[0m \u001b[1m8s\u001b[0m 6ms/step - accuracy: 0.9390 - loss: 0.2005\n",
      "Epoch 2/10\n",
      "\u001b[1m938/938\u001b[0m \u001b[32m━━━━━━━━━━━━━━━━━━━━\u001b[0m\u001b[37m\u001b[0m \u001b[1m5s\u001b[0m 5ms/step - accuracy: 0.9539 - loss: 0.1507\n",
      "Epoch 3/10\n",
      "\u001b[1m938/938\u001b[0m \u001b[32m━━━━━━━━━━━━━━━━━━━━\u001b[0m\u001b[37m\u001b[0m \u001b[1m-18s\u001b[0m -19096us/step - accuracy: 0.9599 - loss: 0.1292\n",
      "Epoch 4/10\n",
      "\u001b[1m938/938\u001b[0m \u001b[32m━━━━━━━━━━━━━━━━━━━━\u001b[0m\u001b[37m\u001b[0m \u001b[1m5s\u001b[0m 5ms/step - accuracy: 0.9566 - loss: 0.1404    \n",
      "Epoch 5/10\n",
      "\u001b[1m938/938\u001b[0m \u001b[32m━━━━━━━━━━━━━━━━━━━━\u001b[0m\u001b[37m\u001b[0m \u001b[1m4s\u001b[0m 5ms/step - accuracy: 0.9613 - loss: 0.1220  \n",
      "Epoch 6/10\n",
      "\u001b[1m938/938\u001b[0m \u001b[32m━━━━━━━━━━━━━━━━━━━━\u001b[0m\u001b[37m\u001b[0m \u001b[1m28s\u001b[0m 29ms/step - accuracy: 0.9640 - loss: 0.1143\n",
      "Epoch 7/10\n",
      "\u001b[1m938/938\u001b[0m \u001b[32m━━━━━━━━━━━━━━━━━━━━\u001b[0m\u001b[37m\u001b[0m \u001b[1m5s\u001b[0m 5ms/step - accuracy: 0.9647 - loss: 0.1156\n",
      "Epoch 8/10\n",
      "\u001b[1m938/938\u001b[0m \u001b[32m━━━━━━━━━━━━━━━━━━━━\u001b[0m\u001b[37m\u001b[0m \u001b[1m5s\u001b[0m 5ms/step - accuracy: 0.9671 - loss: 0.1083\n",
      "Epoch 9/10\n",
      "\u001b[1m938/938\u001b[0m \u001b[32m━━━━━━━━━━━━━━━━━━━━\u001b[0m\u001b[37m\u001b[0m \u001b[1m-18s\u001b[0m -19111us/step - accuracy: 0.9682 - loss: 0.1044\n",
      "Epoch 10/10\n",
      "\u001b[1m938/938\u001b[0m \u001b[32m━━━━━━━━━━━━━━━━━━━━\u001b[0m\u001b[37m\u001b[0m \u001b[1m5s\u001b[0m 5ms/step - accuracy: 0.9697 - loss: 0.1004  \n"
     ]
    },
    {
     "data": {
      "text/plain": [
       "<keras.src.callbacks.history.History at 0x7fb7e365c380>"
      ]
     },
     "execution_count": 22,
     "metadata": {},
     "output_type": "execute_result"
    }
   ],
   "source": [
    "from tensorflow.keras.optimizers import Adam \n",
    "\n",
    "model.compile(\n",
    "    optimizer=Adam(learning_rate=0.005), \n",
    "    loss = 'categorical_crossentropy',\n",
    "    metrics = ['accuracy']\n",
    ")\n",
    "\n",
    "model.fit(train_images,\n",
    "         to_categorical(train_labels), \n",
    "         epochs=10, \n",
    "         batch_size=64)"
   ]
  },
  {
   "cell_type": "markdown",
   "id": "ad0556d3",
   "metadata": {},
   "source": [
    "#### Augmenter ou diminuer la profondeur du reseau : Qu est ce qui change ? "
   ]
  },
  {
   "cell_type": "code",
   "execution_count": 25,
   "id": "efe4c820",
   "metadata": {},
   "outputs": [
    {
     "name": "stderr",
     "output_type": "stream",
     "text": [
      "/home/papadiadji/.local/lib/python3.12/site-packages/keras/src/layers/core/dense.py:87: UserWarning: Do not pass an `input_shape`/`input_dim` argument to a layer. When using Sequential models, prefer using an `Input(shape)` object as the first layer in the model instead.\n",
      "  super().__init__(activity_regularizer=activity_regularizer, **kwargs)\n"
     ]
    },
    {
     "name": "stdout",
     "output_type": "stream",
     "text": [
      "Epoch 1/10\n",
      "\u001b[1m938/938\u001b[0m \u001b[32m━━━━━━━━━━━━━━━━━━━━\u001b[0m\u001b[37m\u001b[0m \u001b[1m33s\u001b[0m 31ms/step - accuracy: 0.8015 - loss: 0.5919\n",
      "Epoch 2/10\n",
      "\u001b[1m938/938\u001b[0m \u001b[32m━━━━━━━━━━━━━━━━━━━━\u001b[0m\u001b[37m\u001b[0m \u001b[1m6s\u001b[0m 6ms/step - accuracy: 0.9280 - loss: 0.2357\n",
      "Epoch 3/10\n",
      "\u001b[1m938/938\u001b[0m \u001b[32m━━━━━━━━━━━━━━━━━━━━\u001b[0m\u001b[37m\u001b[0m \u001b[1m6s\u001b[0m 6ms/step - accuracy: 0.9447 - loss: 0.1852\n",
      "Epoch 4/10\n",
      "\u001b[1m938/938\u001b[0m \u001b[32m━━━━━━━━━━━━━━━━━━━━\u001b[0m\u001b[37m\u001b[0m \u001b[1m-18s\u001b[0m -19018us/step - accuracy: 0.9497 - loss: 0.1684\n",
      "Epoch 5/10\n",
      "\u001b[1m938/938\u001b[0m \u001b[32m━━━━━━━━━━━━━━━━━━━━\u001b[0m\u001b[37m\u001b[0m \u001b[1m5s\u001b[0m 5ms/step - accuracy: 0.9554 - loss: 0.1511    \n",
      "Epoch 6/10\n",
      "\u001b[1m938/938\u001b[0m \u001b[32m━━━━━━━━━━━━━━━━━━━━\u001b[0m\u001b[37m\u001b[0m \u001b[1m5s\u001b[0m 5ms/step - accuracy: 0.9567 - loss: 0.1464    \n",
      "Epoch 7/10\n",
      "\u001b[1m938/938\u001b[0m \u001b[32m━━━━━━━━━━━━━━━━━━━━\u001b[0m\u001b[37m\u001b[0m \u001b[1m5s\u001b[0m 5ms/step - accuracy: 0.9574 - loss: 0.1463    \n",
      "Epoch 8/10\n",
      "\u001b[1m938/938\u001b[0m \u001b[32m━━━━━━━━━━━━━━━━━━━━\u001b[0m\u001b[37m\u001b[0m \u001b[1m5s\u001b[0m 5ms/step - accuracy: 0.9604 - loss: 0.1318    \n",
      "Epoch 9/10\n",
      "\u001b[1m938/938\u001b[0m \u001b[32m━━━━━━━━━━━━━━━━━━━━\u001b[0m\u001b[37m\u001b[0m \u001b[1m5s\u001b[0m 5ms/step - accuracy: 0.9614 - loss: 0.1332    \n",
      "Epoch 10/10\n",
      "\u001b[1m938/938\u001b[0m \u001b[32m━━━━━━━━━━━━━━━━━━━━\u001b[0m\u001b[37m\u001b[0m \u001b[1m5s\u001b[0m 6ms/step - accuracy: 0.9659 - loss: 0.1186    \n",
      "\u001b[1m313/313\u001b[0m \u001b[32m━━━━━━━━━━━━━━━━━━━━\u001b[0m\u001b[37m\u001b[0m \u001b[1m2s\u001b[0m 4ms/step - accuracy: 0.9610 - loss: 0.1482   \n"
     ]
    },
    {
     "data": {
      "text/plain": [
       "[0.13410082459449768, 0.9641000032424927]"
      ]
     },
     "execution_count": 25,
     "metadata": {},
     "output_type": "execute_result"
    }
   ],
   "source": [
    "model_2 = Sequential([\n",
    "  Dense(64, activation='relu', input_shape=(784,)),\n",
    "  Dense(64, activation='relu'),\n",
    "  Dense(64, activation='relu'),\n",
    "  Dense(64, activation='relu'),\n",
    "  Dense(10, activation='softmax'),\n",
    "])\n",
    "\n",
    "\n",
    "# Compilation du modèle \n",
    "\n",
    "model_2.compile(optimizer=Adam(learning_rate=0.005),\n",
    "                loss='categorical_crossentropy',    \n",
    "                metrics=['accuracy'])\n",
    "# Entraînement du modèle\n",
    "model_2.fit(train_images, \n",
    "            to_categorical(train_labels), \n",
    "            epochs=10,      \n",
    "            batch_size=64)\n",
    "# Évaluation du modèle\n",
    "model_2.evaluate(test_images, \n",
    "                 to_categorical(test_labels))"
   ]
  },
  {
   "cell_type": "markdown",
   "id": "dbcc3d97",
   "metadata": {},
   "source": [
    "#### on a une Loss plus élevée que precedement , l accuracy semble ne pas changer suivant me nommbre de Dense"
   ]
  },
  {
   "cell_type": "markdown",
   "id": "aba328cd",
   "metadata": {},
   "source": [
    "#### L'impact du choix de la fonction d activation sur le modelel ? -> entre sigmoid et relu"
   ]
  }
 ],
 "metadata": {
  "kernelspec": {
   "display_name": "Python 3 (ipykernel)",
   "language": "python",
   "name": "python3"
  },
  "language_info": {
   "codemirror_mode": {
    "name": "ipython",
    "version": 3
   },
   "file_extension": ".py",
   "mimetype": "text/x-python",
   "name": "python",
   "nbconvert_exporter": "python",
   "pygments_lexer": "ipython3",
   "version": "3.12.3"
  }
 },
 "nbformat": 4,
 "nbformat_minor": 5
}
