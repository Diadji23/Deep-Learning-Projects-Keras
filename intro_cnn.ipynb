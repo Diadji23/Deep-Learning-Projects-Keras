{
 "cells": [
  {
   "cell_type": "markdown",
   "id": "59645c43",
   "metadata": {},
   "source": [
    "# Introduction to Convolutional Neural \n",
    "\n",
    "### why CNN ? \n",
    "#### -Ils sont généralement utilisés dans la taches de classification d'images . Les images sont souvent de dim 224*224 ou plus avec 3 chaines de couleurs -> ce qui fait 224*244 * 3 inputs pour les features . le réseau serait trop grand et presque impossible à bien entrainner .\n",
    "\n",
    "#### -pouvoir detecter l objet peut import la position "
   ]
  },
  {
   "cell_type": "markdown",
   "id": "fdbf4bef",
   "metadata": {},
   "source": [
    "### Convolutions : \n",
    "#### ce sont des reseaux de neurones qui utilisent des couches convolutives ( conv layers) basé sur les opérations mathématiques des \"convolutiion\" . les conv layers sont un ensemble de filtres semblables à des matrices 2D\n",
    "\n",
    "#### Convolving le filtre( ex: sobel filter) avec l image : 1 . La superposition du filtre sur l'image à un endroit donné.  2. Multiplication par éléments entre les valeurs du filtre et leurs valeurs correspondantes dans l'image . 3 somme de tous les produits par élément. Cette somme est la valeur de sortie pour le pixel de destination dans l'image de sortie. 4 . repeter pour tous les locations \n",
    "\n",
    "#### -> le filtre de sobel est un détecteur de bord (edges) , le filtre vertical detecte les bords verticaux , l horizontal ... \n",
    "\n",
    "\n",
    "#### padding = ajouter des 0 sur les bords pour garder la meme taille d image a la sortie de la convolution"
   ]
  },
  {
   "cell_type": "markdown",
   "id": "6ea98141",
   "metadata": {},
   "source": [
    "#### Conv Layers "
   ]
  },
  {
   "cell_type": "code",
   "execution_count": 7,
   "id": "61feba10",
   "metadata": {},
   "outputs": [],
   "source": [
    "import numpy as np \n",
    "\n",
    "\n",
    "class Conv3x: \n",
    "    # une conv layer avec 3X3 filtres \n",
    "    def __init__(self , num_filters ):\n",
    "        self.num_filters = num_filters \n",
    "        #le filtre est un tableau 3D de taille \n",
    "        #on divise par 9 pour diminuer la variance\n",
    "        self.filters = np.random.randn(num_filters, 3, 3) / 9.0\n",
    "\n",
    "    def iterate_regions(self, image): \n",
    "        '''\n",
    "    Generates all possible 3x3 image regions using valid padding.\n",
    "    - image is a 2d numpy array\n",
    "    '''\n",
    "        h , w = image.shape \n",
    "        for i in range(h - 2):  \n",
    "            for  j in range(w - 2):\n",
    "                im_region = image[i : i + 3 , j : j + 3] ## 3x3 region of the image\n",
    "                yield im_region , i , j \n",
    "    \n",
    "    def forward(self, input): \n",
    "        '''\n",
    "        Performs a forward pass of the conv layer using the given input.\n",
    "        '''\n",
    "        h , w = input.shape\n",
    "        output = np.zeros((h - 2, w - 2, self.num_filters)) \n",
    "        for im_region, i, j in self.iterate_regions(input): \n",
    "            output[i, j] = np.sum(im_region * self.filters, axis=(1, 2))\n",
    "        return output\n",
    "\n",
    "        "
   ]
  },
  {
   "cell_type": "code",
   "execution_count": null,
   "id": "9bc9980f",
   "metadata": {},
   "outputs": [
    {
     "name": "stdout",
     "output_type": "stream",
     "text": [
      "(28, 28)\n",
      "(26, 26, 8)\n"
     ]
    }
   ],
   "source": [
    "from tensorflow.keras.datasets import mnist\n",
    "\n",
    "\n",
    "\n",
    "train_data = mnist.load_data()\n",
    "(x_train, y_train), (x_test, y_test) = mnist.load_data()\n",
    "\n",
    "conv = Conv3x(8)\n",
    "output = conv.forward(x_train[0])\n",
    "\n",
    "print(x_train[0].shape) # (28, 28)\n",
    "print(output.shape) # (26, 26, 8)\n",
    "# on a donc une image de 26x26 pixels et 8 canaux"
   ]
  }
 ],
 "metadata": {
  "kernelspec": {
   "display_name": "Python 3 (ipykernel)",
   "language": "python",
   "name": "python3"
  },
  "language_info": {
   "codemirror_mode": {
    "name": "ipython",
    "version": 3
   },
   "file_extension": ".py",
   "mimetype": "text/x-python",
   "name": "python",
   "nbconvert_exporter": "python",
   "pygments_lexer": "ipython3",
   "version": "3.12.3"
  }
 },
 "nbformat": 4,
 "nbformat_minor": 5
}
